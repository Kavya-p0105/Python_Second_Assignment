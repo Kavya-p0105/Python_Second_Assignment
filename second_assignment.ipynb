{
 "cells": [
  {
   "cell_type": "raw",
   "id": "864c0f73-135c-48a2-873f-0ac1e11664cc",
   "metadata": {},
   "source": [
    "1.Discuss string slicing and provide examples?\n",
    "Answer: Each character in the string can be accessed by its index, or position. Substrings can be extracted using slicing. Strings can be joined together and altered using a variety of techniques\n",
    "Ex:name=\"samskruth\"\n",
    "name[0:5]\n",
    "o/p:'samsk'\n"
   ]
  },
  {
   "cell_type": "raw",
   "id": "c4104d40-d1bb-42b7-b519-82b149298651",
   "metadata": {},
   "source": [
    "2.Explain the key features of lists in Python?\n",
    "Answer:The key feature of list are we can add, remove, or modify elements within a list using indexing and slicing. Lists are versatile for storing and managing collections that might change."
   ]
  },
  {
   "cell_type": "raw",
   "id": "92cad3ad-5695-45aa-b24b-f2ae750b426f",
   "metadata": {},
   "source": [
    "3.Describe how to access, modify, and delete elements in a list with examples?\n",
    "Answer:In list we can access element and modify ,delet the element from the list \n",
    "Ex:list=[2,\"Rahul\",\"Tomato\",\"fruts\"]\n",
    "accessing element is list by using index number like list[1]\n",
    "modify the element by using the index number list[2]=\"onion\"\n",
    "deleting the element by using keyword del"
   ]
  },
  {
   "cell_type": "raw",
   "id": "32b99c54-78ff-45b6-863b-61073d51535b",
   "metadata": {},
   "source": [
    "4.Compare and contrast tuples and lists with examples?\n",
    "Answer:           tuple                           list\n",
    "  tuples are Ordered, immutable            list are Ordered, mutable \n",
    "  collections of elements,                  collections of elements.\n",
    "  once created, the items in               once created, the item in\n",
    "  a tuple cannot be changed.                list can be changed.\n",
    "  ex:T=(2,\"car\",\"Bike\",34)                ex:L=[23,\"fruit\",\"veges\",\"kitchen item\"]\n",
    "     T.append[4]=\"scoter\"                     L.append[5]=\"Home applence\"\n",
    "     it will give error                        it will add the item to list\n",
    "                                           "
   ]
  },
  {
   "cell_type": "raw",
   "id": "70368427-6828-47c0-8e4f-936b036d0de4",
   "metadata": {},
   "source": [
    "5.Describe the key features of sets and provide examples of their use?\n",
    "Answer:The sets we can add or remove elements from a set, but you cannot access elements by index (since order doesn't matter). Set operations like union (combining elements), intersection (finding common elements), and difference (finding elements in one set but not the other) are efficient.\n",
    "ex:Grocery_item={'milk','tea powder','sugar','washing powder','milk','sugar'}\n",
    "o/p:Grocery_item\n",
    "    {'milk,'tea powder','sugar','washing powder'}"
   ]
  },
  {
   "cell_type": "raw",
   "id": "ca7d085d-144d-4d92-914d-0f25f161543f",
   "metadata": {},
   "source": [
    "6.Discuss the use cases of tuples and sets in Python programming?\n",
    "Answer:Tuples:tuples are Ordered, immutable collections of elements and once we created the item in tuples we can't be changed.\n",
    "Sets:sets are unOrdered,mutable collections of elements and here duplicate items are not allowed to sets and we can acces and modify the elements."
   ]
  },
  {
   "cell_type": "raw",
   "id": "8f5c25cc-0cc3-4d36-8e60-622e72a90b1a",
   "metadata": {},
   "source": [
    "7.Describe how to add, modfiy, and delete items in a dictionary with examples?\n",
    "Answer:Add: Use direct assignment (dictionary_name[key] = value) or .update() method.\n",
    "Access: Retrieve values using their keys (value = dictionary_name[key]).\n",
    "Remove: Use del dictionary_name[key], .pop(key), or .popitem()."
   ]
  },
  {
   "cell_type": "raw",
   "id": "08060e19-5294-4d0f-bb74-71ff629bd4c7",
   "metadata": {},
   "source": [
    "8.Discuss the importance of dictionary keys being immutable and provide examples?\n",
    "Answer:Add: Use direct assignment (dictionary_name[key] = value) or .update() method.\n",
    "Access: Retrieve values using their keys (value = dictionary_name[key]).\n",
    "Remove: Use del dictionary_name[key], .pop(key), or .popitem().\n",
    "Check membership: Use the in operator (key in dictionary_name)."
   ]
  }
 ],
 "metadata": {
  "kernelspec": {
   "display_name": "Python 3 (ipykernel)",
   "language": "python",
   "name": "python3"
  },
  "language_info": {
   "codemirror_mode": {
    "name": "ipython",
    "version": 3
   },
   "file_extension": ".py",
   "mimetype": "text/x-python",
   "name": "python",
   "nbconvert_exporter": "python",
   "pygments_lexer": "ipython3",
   "version": "3.10.8"
  }
 },
 "nbformat": 4,
 "nbformat_minor": 5
}
